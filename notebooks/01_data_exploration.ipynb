{
 "cells": [
  {
   "cell_type": "code",
   "execution_count": null,
   "id": "e79d6b07",
   "metadata": {},
   "outputs": [
    {
     "name": "stdout",
     "output_type": "stream",
     "text": [
      "Forme de X_array : (306, 26366, 16)\n",
      "Forme de y_array : (306,)\n",
      "Exemple de X_array[0] :\n",
      " [[0.41399817 0.30190114 0.42483325 0.09668874 0.20937841 0.25701387\n",
      "  0.17337123 0.3659601  0.34395198 0.32195122 0.45482866 0.13047162\n",
      "  0.1566416  0.26869965 0.30167086 0.38704497]\n",
      " [0.41399817 0.30190114 0.42483325 0.09668874 0.20937841 0.25701387\n",
      "  0.17337123 0.3659601  0.34395198 0.32195122 0.45482866 0.13047162\n",
      "  0.1566416  0.26869965 0.30167086 0.38704497]\n",
      " [0.41399817 0.30190114 0.42483325 0.09668874 0.20937841 0.25701387\n",
      "  0.17337123 0.35473815 0.34395198 0.32195122 0.45482866 0.13047162\n",
      "  0.1566416  0.26869965 0.30167086 0.38704497]\n",
      " [0.41399817 0.30190114 0.42483325 0.09668874 0.20937841 0.25701387\n",
      "  0.17708789 0.3659601  0.34395198 0.31263858 0.45482866 0.12341147\n",
      "  0.1566416  0.27589183 0.30167086 0.38704497]\n",
      " [0.41399817 0.30190114 0.42483325 0.09668874 0.20937841 0.25701387\n",
      "  0.17337123 0.35473815 0.34395198 0.31263858 0.45482866 0.13047162\n",
      "  0.1566416  0.27589183 0.30167086 0.38704497]]\n"
     ]
    }
   ],
   "source": [
    "import os\n",
    "import sys\n",
    "import numpy as np\n",
    "\n",
    "# 0️ Corriger le chemin pour que Python trouve le dossier scripts\n",
    "project_path = r\"C:\\Users\\lenovo\\Desktop\\parkinson_gait\"\n",
    "os.chdir(project_path)  # Change le répertoire courant\n",
    "sys.path.append(os.path.join(project_path, \"scripts\"))  # Ajouter scripts au PATH\n",
    "\n",
    "# 1️ Importer les fonctions\n",
    "from load_data import load_demographics, get_file_labels\n",
    "from preprocess_signals import read_signals, normalize_signals, pad_signals\n",
    "\n",
    "# 2️ Charger les données\n",
    "demographics = load_demographics(os.path.join(project_path, \"data\"))\n",
    "all_files, file_labels = get_file_labels(os.path.join(project_path, \"data\"), demographics)\n",
    "\n",
    "# 3️ Lire les signaux et labels\n",
    "X, y = read_signals(all_files, file_labels)\n",
    "\n",
    "# 4️ Normaliser les signaux\n",
    "X_norm = normalize_signals(X)\n",
    "\n",
    "# 5️ Pad pour que tous les fichiers aient la même longueur\n",
    "X_array = pad_signals(X_norm)\n",
    "y_array = np.array(y)\n",
    "\n",
    "# 6️ Vérifier\n",
    "print(\"Forme de X_array :\", X_array.shape)\n",
    "print(\"Forme de y_array :\", y_array.shape)\n",
    "print(\"Exemple de X_array[0] :\\n\", X_array[0][:5, :])\n"
   ]
  },
  {
   "cell_type": "code",
   "execution_count": null,
   "id": "8c73458d",
   "metadata": {},
   "outputs": [],
   "source": []
  },
  {
   "cell_type": "code",
   "execution_count": 24,
   "id": "ba910d40",
   "metadata": {},
   "outputs": [
    {
     "name": "stdout",
     "output_type": "stream",
     "text": [
      "Fichier: GaCo01_01.txt, Label: CO\n",
      "Fichier: GaCo02_01.txt, Label: CO\n",
      "Fichier: GaCo02_02.txt, Label: CO\n",
      "Fichier: GaCo03_01.txt, Label: CO\n",
      "Fichier: GaCo03_02.txt, Label: CO\n"
     ]
    }
   ],
   "source": [
    "# Affiche les 5 premiers éléments du dictionnaire\n",
    "for i, (f, label) in enumerate(file_labels.items()):\n",
    "    if i >= 5:\n",
    "        break\n",
    "    print(f\"Fichier: {f}, Label: {label}\")\n",
    "\n",
    "\n"
   ]
  }
 ],
 "metadata": {
  "kernelspec": {
   "display_name": "Python 3",
   "language": "python",
   "name": "python3"
  },
  "language_info": {
   "codemirror_mode": {
    "name": "ipython",
    "version": 3
   },
   "file_extension": ".py",
   "mimetype": "text/x-python",
   "name": "python",
   "nbconvert_exporter": "python",
   "pygments_lexer": "ipython3",
   "version": "3.11.9"
  }
 },
 "nbformat": 4,
 "nbformat_minor": 5
}
